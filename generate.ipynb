{
 "cells": [
  {
   "cell_type": "code",
   "execution_count": 68,
   "metadata": {
    "collapsed": true
   },
   "outputs": [],
   "source": [
    "import numpy as np\n",
    "import torch\n",
    "from skimage.io import imsave\n",
    "from torch.autograd import Variable\n",
    "from machinedesign.viz import grid_of_images_default\n",
    "\n",
    "from scipy.spatial.distance import cdist\n",
    "from lapjv import lapjv\n",
    "\n",
    "from sklearn.decomposition import PCA\n",
    "from sklearn.manifold import TSNE\n",
    "\n",
    "def grid_embedding(h):\n",
    "    assert int(np.sqrt(h.shape[0])) ** 2 == h.shape[0], 'Nb of examples must be a square number'\n",
    "    size = np.sqrt(h.shape[0])\n",
    "    grid = np.dstack(np.meshgrid(np.linspace(0, 1, size), np.linspace(0, 1, size))).reshape(-1, 2)\n",
    "    cost_matrix = cdist(grid, h, \"sqeuclidean\").astype('float32')\n",
    "    cost_matrix = cost_matrix * (100000 / cost_matrix.max())\n",
    "    _, rows, cols = lapjv(cost_matrix)\n",
    "    return rows\n"
   ]
  },
  {
   "cell_type": "code",
   "execution_count": 60,
   "metadata": {
    "collapsed": true
   },
   "outputs": [],
   "source": [
    "folder = 'results/celeba'\n",
    "gen = torch.load('{}/gen.th'.format(folder), map_location=lambda storage, loc: storage)\n",
    "gen.train()\n",
    "nz = gen.nz"
   ]
  },
  {
   "cell_type": "code",
   "execution_count": 70,
   "metadata": {},
   "outputs": [
    {
     "name": "stderr",
     "output_type": "stream",
     "text": [
      "/home/mcherti/miniconda/envs/py3/lib/python3.5/site-packages/ipykernel/__main__.py:16: DeprecationWarning: object of type <class 'numpy.float64'> cannot be safely interpreted as an integer.\n"
     ]
    },
    {
     "name": "stdout",
     "output_type": "stream",
     "text": [
      "(400, 3, 64, 64)\n",
      "0\n"
     ]
    },
    {
     "name": "stderr",
     "output_type": "stream",
     "text": [
      "/home/mcherti/miniconda/envs/py3/lib/python3.5/site-packages/skimage/util/dtype.py:110: UserWarning: Possible precision loss when converting from float64 to uint8\n",
      "  \"%s to %s\" % (dtypeobj_in, dtypeobj))\n"
     ]
    },
    {
     "name": "stdout",
     "output_type": "stream",
     "text": [
      "(400, 3, 64, 64)\n",
      "1\n",
      "(400, 3, 64, 64)\n",
      "2\n",
      "(400, 3, 64, 64)\n",
      "3\n"
     ]
    }
   ],
   "source": [
    "nz = gen.nz\n",
    "nb_blocks = nz // gen.nz_per_block\n",
    "nb_factors_per_block = gen.nb_factors // nb_blocks\n",
    "nb = 20*20\n",
    "np.random.seed(42)\n",
    "for i in range(0, nz, gen.nz_per_block):\n",
    "    Z = np.random.uniform(-1, 1, size=(1, nz)) * np.ones((nb, 1))\n",
    "    Z[:, i:i + nb_factors_per_block] = np.random.uniform(-1, 1, size=(nb, nb_factors_per_block))\n",
    "    Z = Z.astype(np.float32)\n",
    "    #p = PCA(n_components=2).fit_transform(Z)\n",
    "    #r = grid_embedding(p)\n",
    "\n",
    "    Z = torch.from_numpy(Z)\n",
    "    Z = Z.view(Z.size(0), Z.size(1), 1, 1)\n",
    "    Z = Variable(Z)\n",
    "    x = gen(Z)\n",
    "    x = x.data.numpy()\n",
    "    \n",
    "    p = TSNE(n_components=2).fit_transform(x.reshape((x.shape[0], -1)))\n",
    "    p = grid_embedding(p)\n",
    "    x = x[p]\n",
    "    print(x.shape)\n",
    "    x = (x + 1) / 2\n",
    "    im = grid_of_images_default(x, normalize=False)\n",
    "    print(i//gen.nz_per_block)\n",
    "    imsave('latent{}.png'.format(i // gen.nz_per_block), im)"
   ]
  },
  {
   "cell_type": "code",
   "execution_count": null,
   "metadata": {
    "collapsed": true
   },
   "outputs": [],
   "source": []
  }
 ],
 "metadata": {
  "anaconda-cloud": {},
  "kernelspec": {
   "display_name": "Python [conda env:py3]",
   "language": "python",
   "name": "conda-env-py3-py"
  },
  "language_info": {
   "codemirror_mode": {
    "name": "ipython",
    "version": 3
   },
   "file_extension": ".py",
   "mimetype": "text/x-python",
   "name": "python",
   "nbconvert_exporter": "python",
   "pygments_lexer": "ipython3",
   "version": "3.5.2"
  }
 },
 "nbformat": 4,
 "nbformat_minor": 1
}
